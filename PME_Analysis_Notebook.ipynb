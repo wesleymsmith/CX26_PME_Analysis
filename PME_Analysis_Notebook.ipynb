{
 "cells": [
  {
   "cell_type": "code",
   "execution_count": 3,
   "metadata": {},
   "outputs": [],
   "source": [
    "import numpy as np\n",
    "import scipy as sp\n",
    "import pandas as pd\n",
    "import matplotlib\n",
    "from matplotlib import pyplot as plt\n",
    "import seaborn as sns\n",
    "\n",
    "import sys\n",
    "import os\n",
    "import tqdm\n",
    "import gc\n",
    "import copy\n",
    "\n",
    "from collections import defaultdict\n",
    "import itertools\n",
    "\n",
    "import plotly as ply\n",
    "ply.io.renderers.default=\"notebook\"\n",
    "\n",
    "import ipywidgets as widgets\n",
    "from ipywidgets import interact\n",
    "\n",
    "import sklearn as skl\n",
    "from sklearn.neighbors import KernelDensity\n",
    "\n",
    "import gridData\n",
    "from gridData import Grid"
   ]
  },
  {
   "cell_type": "code",
   "execution_count": 4,
   "metadata": {},
   "outputs": [
    {
     "data": {
      "text/plain": [
       "<<class 'gridData.core.Grid'> with (128, 128, 168) bins>"
      ]
     },
     "execution_count": 4,
     "metadata": {},
     "output_type": "execute_result"
    }
   ],
   "source": [
    "pmeVolData=Grid(\"CX26_neg200mV_last40ns_PME.dx\")\n",
    "pmeVolData"
   ]
  },
  {
   "cell_type": "code",
   "execution_count": 5,
   "metadata": {
    "scrolled": true
   },
   "outputs": [
    {
     "data": {
      "text/plain": [
       "['_Grid__interpolated',\n",
       " '_Grid__interpolation_spline_order',\n",
       " '__add__',\n",
       " '__class__',\n",
       " '__delattr__',\n",
       " '__dict__',\n",
       " '__dir__',\n",
       " '__div__',\n",
       " '__doc__',\n",
       " '__eq__',\n",
       " '__floordiv__',\n",
       " '__format__',\n",
       " '__ge__',\n",
       " '__getattribute__',\n",
       " '__gt__',\n",
       " '__hash__',\n",
       " '__init__',\n",
       " '__init_subclass__',\n",
       " '__le__',\n",
       " '__lt__',\n",
       " '__module__',\n",
       " '__mul__',\n",
       " '__ne__',\n",
       " '__new__',\n",
       " '__pow__',\n",
       " '__radd__',\n",
       " '__rdiv__',\n",
       " '__reduce__',\n",
       " '__reduce_ex__',\n",
       " '__repr__',\n",
       " '__rfloordiv__',\n",
       " '__rmul__',\n",
       " '__rpow__',\n",
       " '__rsub__',\n",
       " '__rtruediv__',\n",
       " '__setattr__',\n",
       " '__sizeof__',\n",
       " '__str__',\n",
       " '__sub__',\n",
       " '__subclasshook__',\n",
       " '__truediv__',\n",
       " '__weakref__',\n",
       " '_export_dx',\n",
       " '_export_python',\n",
       " '_exporters',\n",
       " '_get_exporter',\n",
       " '_get_loader',\n",
       " '_guess_format',\n",
       " '_interpolationFunctionFactory',\n",
       " '_len_edges',\n",
       " '_load_cpp4',\n",
       " '_load_dx',\n",
       " '_load_plt',\n",
       " '_load_python',\n",
       " '_loaders',\n",
       " '_map_edges',\n",
       " '_max_edges',\n",
       " '_midpoints',\n",
       " '_min_edges',\n",
       " '_update',\n",
       " 'centers',\n",
       " 'check_compatible',\n",
       " 'default_format',\n",
       " 'delta',\n",
       " 'edges',\n",
       " 'export',\n",
       " 'grid',\n",
       " 'interpolated',\n",
       " 'interpolation_cval',\n",
       " 'interpolation_spline_order',\n",
       " 'load',\n",
       " 'metadata',\n",
       " 'midpoints',\n",
       " 'origin',\n",
       " 'resample',\n",
       " 'resample_factor',\n",
       " 'save']"
      ]
     },
     "execution_count": 5,
     "metadata": {},
     "output_type": "execute_result"
    }
   ],
   "source": [
    "dir(pmeVolData)"
   ]
  },
  {
   "cell_type": "code",
   "execution_count": 17,
   "metadata": {},
   "outputs": [
    {
     "data": {
      "image/png": "[encoded data removed]",
      "text/plain": [
       "<Figure size 432x288 with 1 Axes>"
      ]
     },
     "metadata": {
      "needs_background": "light"
     },
     "output_type": "display_data"
    }
   ],
   "source": [
    "kb=8.617333262E-5\n",
    "tSim=310.15\n",
    "kbT=kb*tSim\n",
    "sns.lineplot(np.arange(168),\n",
    "             kbT*np.mean(pmeVolData.grid,axis=(0,1)))\n",
    "plt.show()"
   ]
  },
  {
   "cell_type": "code",
   "execution_count": null,
   "metadata": {},
   "outputs": [],
   "source": []
  }
 ],
 "metadata": {
  "kernelspec": {
   "display_name": "Python 3",
   "language": "python",
   "name": "python3"
  },
  "language_info": {
   "codemirror_mode": {
    "name": "ipython",
    "version": 3
   },
   "file_extension": ".py",
   "mimetype": "text/x-python",
   "name": "python",
   "nbconvert_exporter": "python",
   "pygments_lexer": "ipython3",
   "version": "3.7.3"
  }
 },
 "nbformat": 4,
 "nbformat_minor": 2
}
